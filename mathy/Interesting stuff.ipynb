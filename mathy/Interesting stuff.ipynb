{
 "cells": [
  {
   "cell_type": "markdown",
   "id": "annual-carter",
   "metadata": {},
   "source": [
    "# Central limit theorem\n",
    "\n",
    "This according to me is a weird theorem. I mean intuitively. The theorem states that no matter what the original population distibution is like, if we take sufficiently large samples with replacement, then the means of these samples follow a Guassian distribution! This can be seen in the three examples below, where 1000 sample groups each of size 100 is generated from a uniform, poission and rayleigh distribution. Their means are evaluated and plotted. See the weirdness for yourself!!!"
   ]
  },
  {
   "cell_type": "code",
   "execution_count": 1,
   "id": "reliable-principal",
   "metadata": {},
   "outputs": [],
   "source": [
    "import numpy as np\n",
    "import matplotlib.pyplot as plt"
   ]
  },
  {
   "cell_type": "code",
   "execution_count": 2,
   "id": "awful-biology",
   "metadata": {},
   "outputs": [],
   "source": [
    "np.random.seed(123)"
   ]
  },
  {
   "cell_type": "code",
   "execution_count": 3,
   "id": "northern-wayne",
   "metadata": {},
   "outputs": [],
   "source": [
    "def get_samples_from_uniform(low=0, upper=5, n=30):\n",
    "    return np.random.uniform(low, upper, n)"
   ]
  },
  {
   "cell_type": "code",
   "execution_count": 4,
   "id": "tribal-testimony",
   "metadata": {},
   "outputs": [],
   "source": [
    "def get_samples_from_poisson(lam=1, n=30):\n",
    "    return np.random.poisson(lam, n)"
   ]
  },
  {
   "cell_type": "code",
   "execution_count": 5,
   "id": "satisfied-minnesota",
   "metadata": {},
   "outputs": [],
   "source": [
    "def get_samples_from_rayleigh(scale=1, n=30):\n",
    "    return np.random.rayleigh(scale, n) "
   ]
  },
  {
   "cell_type": "code",
   "execution_count": 6,
   "id": "authentic-swiss",
   "metadata": {},
   "outputs": [
    {
     "data": {
      "image/png": "[encoded data removed]",
      "text/plain": [
       "<Figure size 432x288 with 1 Axes>"
      ]
     },
     "metadata": {
      "needs_background": "light"
     },
     "output_type": "display_data"
    }
   ],
   "source": [
    "n_groups=1000\n",
    "mean_list = []\n",
    "for k in range(n_groups):\n",
    "    mean_list.append(np.mean(get_samples_from_uniform(n=100)))\n",
    "plt.hist(mean_list, 20)\n",
    "plt.show()"
   ]
  },
  {
   "cell_type": "code",
   "execution_count": 7,
   "id": "distinct-architecture",
   "metadata": {},
   "outputs": [
    {
     "data": {
      "image/png": "[encoded data removed]",
      "text/plain": [
       "<Figure size 432x288 with 1 Axes>"
      ]
     },
     "metadata": {
      "needs_background": "light"
     },
     "output_type": "display_data"
    }
   ],
   "source": [
    "n_groups=1000\n",
    "mean_list = []\n",
    "for k in range(n_groups):\n",
    "    mean_list.append(np.mean(get_samples_from_poisson(n=100)))\n",
    "plt.hist(mean_list, 20)\n",
    "plt.show()"
   ]
  },
  {
   "cell_type": "code",
   "execution_count": 8,
   "id": "preliminary-gibraltar",
   "metadata": {},
   "outputs": [
    {
     "data": {
      "image/png": "[encoded data removed]",
      "text/plain": [
       "<Figure size 432x288 with 1 Axes>"
      ]
     },
     "metadata": {
      "needs_background": "light"
     },
     "output_type": "display_data"
    }
   ],
   "source": [
    "n_groups=1000\n",
    "mean_list = []\n",
    "for k in range(n_groups):\n",
    "    mean_list.append(np.mean(get_samples_from_rayleigh(n=100)))\n",
    "plt.hist(mean_list, 20)\n",
    "plt.show()"
   ]
  },
  {
   "cell_type": "code",
   "execution_count": null,
   "id": "postal-engagement",
   "metadata": {},
   "outputs": [],
   "source": []
  }
 ],
 "metadata": {
  "kernelspec": {
   "display_name": "Python 3",
   "language": "python",
   "name": "python3"
  },
  "language_info": {
   "codemirror_mode": {
    "name": "ipython",
    "version": 3
   },
   "file_extension": ".py",
   "mimetype": "text/x-python",
   "name": "python",
   "nbconvert_exporter": "python",
   "pygments_lexer": "ipython3",
   "version": "3.7.3"
  }
 },
 "nbformat": 4,
 "nbformat_minor": 5
}
