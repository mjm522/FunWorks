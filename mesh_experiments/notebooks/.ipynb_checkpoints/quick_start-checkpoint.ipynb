{
 "cells": [
  {
   "cell_type": "code",
   "execution_count": 1,
   "metadata": {
    "collapsed": false
   },
   "outputs": [],
   "source": [
    "import numpy as np\n",
    "import trimesh"
   ]
  },
  {
   "cell_type": "code",
   "execution_count": 2,
   "metadata": {
    "collapsed": false
   },
   "outputs": [],
   "source": [
    "# load a file by name or from a buffer\n",
    "mesh = trimesh.load_mesh('mesh.STL')"
   ]
  },
  {
   "cell_type": "code",
   "execution_count": 3,
   "metadata": {
    "collapsed": false
   },
   "outputs": [
    {
     "data": {
      "text/plain": [
       "True"
      ]
     },
     "execution_count": 3,
     "metadata": {},
     "output_type": "execute_result"
    }
   ],
   "source": [
    "# is the current mesh watertight?\n",
    "mesh.is_watertight"
   ]
  },
  {
   "cell_type": "code",
   "execution_count": 4,
   "metadata": {
    "collapsed": false
   },
   "outputs": [
    {
     "data": {
      "text/plain": [
       "-16"
      ]
     },
     "execution_count": 4,
     "metadata": {},
     "output_type": "execute_result"
    }
   ],
   "source": [
    "# what's the euler number for the mesh?\n",
    "mesh.euler_number"
   ]
  },
  {
   "cell_type": "code",
   "execution_count": 5,
   "metadata": {
    "collapsed": false
   },
   "outputs": [
    {
     "data": {
      "text/plain": [
       "0.77924077444669315"
      ]
     },
     "execution_count": 5,
     "metadata": {},
     "output_type": "execute_result"
    }
   ],
   "source": [
    "# the convex hull is another Trimesh object that is available as a property\n",
    "# lets compare the volume of our mesh with the volume of its convex hull\n",
    "np.divide(mesh.volume, mesh.convex_hull.volume)"
   ]
  },
  {
   "cell_type": "code",
   "execution_count": 6,
   "metadata": {
    "collapsed": true
   },
   "outputs": [],
   "source": [
    "# since the mesh is watertight, it means there is a\n",
    "# volumetric center of mass which we can set as the origin for our mesh\n",
    "mesh.vertices -= mesh.center_mass"
   ]
  },
  {
   "cell_type": "code",
   "execution_count": 7,
   "metadata": {
    "collapsed": false
   },
   "outputs": [
    {
     "data": {
      "text/plain": [
       "array([[  6.93059627e+00,   1.43877613e-03,   1.49424850e-01],\n",
       "       [  1.43877613e-03,   2.19191960e+01,   1.25194047e-04],\n",
       "       [  1.49424850e-01,   1.25194047e-04,   2.62344872e+01]])"
      ]
     },
     "execution_count": 7,
     "metadata": {},
     "output_type": "execute_result"
    }
   ],
   "source": [
    "# what's the moment of inertia for the mesh?\n",
    "mesh.moment_inertia"
   ]
  },
  {
   "cell_type": "code",
   "execution_count": 8,
   "metadata": {
    "collapsed": false
   },
   "outputs": [
    {
     "data": {
      "text/plain": [
       "array([<trimesh.base.Trimesh object at 0x00000189E99BDE10>], dtype=object)"
      ]
     },
     "execution_count": 8,
     "metadata": {},
     "output_type": "execute_result"
    }
   ],
   "source": [
    "# if there are multiple bodies in the mesh we can split the mesh by\n",
    "# connected components of face adjacency\n",
    "# since this example mesh is a single watertight body we get a list of one mesh\n",
    "mesh.split()"
   ]
  },
  {
   "cell_type": "code",
   "execution_count": 9,
   "metadata": {
    "collapsed": true
   },
   "outputs": [],
   "source": [
    "# find groups of coplanar adjacent faces\n",
    "facets, facets_area = mesh.facets(return_area=True)"
   ]
  },
  {
   "cell_type": "code",
   "execution_count": 10,
   "metadata": {
    "collapsed": true
   },
   "outputs": [],
   "source": [
    "# set each facet to a random color\n",
    "# colors are 8 bit RGBA by default (n,4) np.uint8\n",
    "for facet in facets:\n",
    "    mesh.visual.face_colors[facet] = trimesh.visual.random_color()"
   ]
  },
  {
   "cell_type": "code",
   "execution_count": 11,
   "metadata": {
    "collapsed": false
   },
   "outputs": [
    {
     "data": {
      "text/plain": [
       "<trimesh.scene.scene.Scene at 0x189e99db3c8>"
      ]
     },
     "execution_count": 11,
     "metadata": {},
     "output_type": "execute_result"
    }
   ],
   "source": [
    "# preview mesh in an opengl window if you installed pyglet with pip\n",
    "mesh.show()"
   ]
  },
  {
   "cell_type": "code",
   "execution_count": 12,
   "metadata": {
    "collapsed": false
   },
   "outputs": [
    {
     "data": {
      "text/plain": [
       "<trimesh.base.Trimesh at 0x189e7c0eb70>"
      ]
     },
     "execution_count": 12,
     "metadata": {},
     "output_type": "execute_result"
    }
   ],
   "source": [
    "# transform method can be passed a (4,4) matrix and will cleanly apply the transform\n",
    "mesh.apply_transform(trimesh.transformations.random_rotation_matrix())"
   ]
  },
  {
   "cell_type": "code",
   "execution_count": 13,
   "metadata": {
    "collapsed": false
   },
   "outputs": [
    {
     "data": {
      "text/plain": [
       "TrackedArray([ 4.31702796,  5.02989363,  3.58946412])"
      ]
     },
     "execution_count": 13,
     "metadata": {},
     "output_type": "execute_result"
    }
   ],
   "source": [
    "# an axis aligned bounding box is available\n",
    "mesh.bounding_box.primitive.extents"
   ]
  },
  {
   "cell_type": "code",
   "execution_count": 14,
   "metadata": {
    "collapsed": false
   },
   "outputs": [
    {
     "data": {
      "text/plain": [
       "TrackedArray([ 5.   ,  1.375,  2.5  ])"
      ]
     },
     "execution_count": 14,
     "metadata": {},
     "output_type": "execute_result"
    }
   ],
   "source": [
    "# a minimum volume oriented bounding box is available\n",
    "mesh.bounding_box_oriented.primitive.extents"
   ]
  },
  {
   "cell_type": "code",
   "execution_count": 15,
   "metadata": {
    "collapsed": false
   },
   "outputs": [
    {
     "data": {
      "text/plain": [
       "TrackedArray([[-0.37296609,  0.50296849,  0.7796916 ,  0.0747619 ],\n",
       "       [-0.88953852, -0.43279469, -0.14632147, -0.05487008],\n",
       "       [ 0.2638513 , -0.74813866,  0.60882759, -0.10903204],\n",
       "       [ 0.        ,  0.        ,  0.        ,  1.        ]])"
      ]
     },
     "execution_count": 15,
     "metadata": {},
     "output_type": "execute_result"
    }
   ],
   "source": [
    "mesh.bounding_box_oriented.primitive.transform"
   ]
  },
  {
   "cell_type": "code",
   "execution_count": 16,
   "metadata": {
    "collapsed": false
   },
   "outputs": [
    {
     "data": {
      "text/plain": [
       "<trimesh.scene.scene.Scene at 0x189ef9f0e48>"
      ]
     },
     "execution_count": 16,
     "metadata": {},
     "output_type": "execute_result"
    }
   ],
   "source": [
    "# show the mesh overlayed with its oriented bounding box\n",
    "# the bounding box is a trimesh.primitives.Box object, which subclasses\n",
    "# Trimesh and lazily evaluates to fill in vertices and faces when requested\n",
    "# (press w in viewer to see triangles)\n",
    "(mesh + mesh.bounding_box_oriented).show()"
   ]
  },
  {
   "cell_type": "code",
   "execution_count": 17,
   "metadata": {
    "collapsed": false
   },
   "outputs": [
    {
     "name": "stdout",
     "output_type": "stream",
     "text": [
      "17.18749999999999 28.2835264524 95.89438997522058\n"
     ]
    }
   ],
   "source": [
    "# bounding spheres and bounding cylinders of meshes are also\n",
    "# available, and will be the minimum volume version of each\n",
    "# except in certain degenerate cases, where they will be no worse\n",
    "# than a least squares fit version of the primitive.\n",
    "print(mesh.bounding_box_oriented.volume, \n",
    "      mesh.bounding_cylinder.volume,\n",
    "      mesh.bounding_sphere.volume)"
   ]
  }
 ],
 "metadata": {
  "kernelspec": {
   "display_name": "Python 2",
   "language": "python",
   "name": "python2"
  },
  "language_info": {
   "codemirror_mode": {
    "name": "ipython",
    "version": 2
   },
   "file_extension": ".py",
   "mimetype": "text/x-python",
   "name": "python",
   "nbconvert_exporter": "python",
   "pygments_lexer": "ipython2",
   "version": "2.7.6"
  }
 },
 "nbformat": 4,
 "nbformat_minor": 0
}
